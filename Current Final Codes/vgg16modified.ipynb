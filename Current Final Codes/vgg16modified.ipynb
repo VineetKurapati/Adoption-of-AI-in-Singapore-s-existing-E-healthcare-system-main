{
 "cells": [
  {
   "cell_type": "code",
   "execution_count": 1,
   "metadata": {
    "pycharm": {
     "name": "#%%\n"
    }
   },
   "outputs": [
    {
     "name": "stdout",
     "output_type": "stream",
     "text": [
      "Segmentation Models: using `keras` framework.\n"
     ]
    }
   ],
   "source": [
    "import numpy as np\n",
    "import tensorflow as tf\n",
    "import pandas as pd\n",
    "from tensorflow import keras\n",
    "from keras.models import Sequential\n",
    "from keras.layers import Dense, Conv2D, MaxPool2D, Flatten, Dropout\n",
    "from keras.preprocessing.image import ImageDataGenerator\n",
    "from keras.models import *\n",
    "from keras.layers import *\n",
    "from tensorflow.keras.applications import vgg16, inception_v3, resnet50\n",
    "import segmentation_models as sm\n",
    "import matplotlib.pyplot as plt\n",
    "import os"
   ]
  },
  {
   "cell_type": "code",
   "execution_count": 2,
   "metadata": {
    "pycharm": {
     "name": "#%%\n"
    }
   },
   "outputs": [],
   "source": [
    "os.environ['TF_CPP_MIN_LOG_LEVEL'] = '3'"
   ]
  },
  {
   "cell_type": "code",
   "execution_count": 3,
   "metadata": {
    "pycharm": {
     "name": "#%%\n"
    }
   },
   "outputs": [],
   "source": [
    "from keras.applications import vgg16\n",
    "BACKBONE = 'vgg16'\n",
    "\n",
    "# Model with the first 7 layers unlocked\n",
    "size = 224\n",
    "base_model = vgg16.VGG16(\n",
    "    weights='imagenet',  # Load the pretrained weights, trained on the ImageNet dataset.\n",
    "    include_top=False,  # We don't include the fully-connected layer at the top of the network - we need to modify the top.\n",
    "    input_shape=(size, size, 3),  # 224x224 was the original size ResNet was trained on, so I decided to use this.\n",
    "    pooling='max',  # A global average pooling layer will be added after the last convolutional block.\n",
    ")"
   ]
  },
  {
   "cell_type": "code",
   "execution_count": 4,
   "metadata": {
    "pycharm": {
     "name": "#%%\n"
    }
   },
   "outputs": [],
   "source": [
    "model = Sequential()"
   ]
  },
  {
   "cell_type": "code",
   "execution_count": 5,
   "metadata": {
    "pycharm": {
     "name": "#%%\n"
    }
   },
   "outputs": [],
   "source": [
    "# Here we change the top (the last parts) of the network.\n",
    "x = base_model.output  # Since we used pooling='avg', the output is of the pooling layer\n",
    "x = Dropout(0.1)(x)\n",
    "x = Flatten()(x)\n",
    "x = Dense(64, activation='relu')(x)\n",
    "predictions = Dense(1, activation='linear')(x)  # This is the new output layer - notice only 1 output, this will correspond to the number of people in the image\n",
    "\n",
    "model = Model(inputs=base_model.input, outputs=predictions)"
   ]
  },
  {
   "cell_type": "code",
   "execution_count": 6,
   "metadata": {
    "pycharm": {
     "name": "#%%\n"
    }
   },
   "outputs": [
    {
     "name": "stdout",
     "output_type": "stream",
     "text": [
      "Trainable:\n",
      "block5_conv3\n",
      "block5_pool\n",
      "global_max_pooling2d\n",
      "dropout\n",
      "flatten\n",
      "dense\n",
      "dense_1\n"
     ]
    }
   ],
   "source": [
    "k = -7\n",
    "for layer in model.layers[:k]:\n",
    "    layer.trainable = False\n",
    "print('Trainable:')t\n",
    "for layer in model.layers[k:]:\n",
    "    print(layer.name)\n",
    "    layer.trainable = True"
   ]
  },
  {
   "cell_type": "code",
   "execution_count": 7,
   "metadata": {
    "pycharm": {
     "name": "#%%\n"
    }
   },
   "outputs": [
    {
     "name": "stdout",
     "output_type": "stream",
     "text": [
      "Model: \"model\"\n",
      "_________________________________________________________________\n",
      " Layer (type)                Output Shape              Param #   \n",
      "=================================================================\n",
      " input_1 (InputLayer)        [(None, 224, 224, 3)]     0         \n",
      "                                                                 \n",
      " block1_conv1 (Conv2D)       (None, 224, 224, 64)      1792      \n",
      "                                                                 \n",
      " block1_conv2 (Conv2D)       (None, 224, 224, 64)      36928     \n",
      "                                                                 \n",
      " block1_pool (MaxPooling2D)  (None, 112, 112, 64)      0         \n",
      "                                                                 \n",
      " block2_conv1 (Conv2D)       (None, 112, 112, 128)     73856     \n",
      "                                                                 \n",
      " block2_conv2 (Conv2D)       (None, 112, 112, 128)     147584    \n",
      "                                                                 \n",
      " block2_pool (MaxPooling2D)  (None, 56, 56, 128)       0         \n",
      "                                                                 \n",
      " block3_conv1 (Conv2D)       (None, 56, 56, 256)       295168    \n",
      "                                                                 \n",
      " block3_conv2 (Conv2D)       (None, 56, 56, 256)       590080    \n",
      "                                                                 \n",
      " block3_conv3 (Conv2D)       (None, 56, 56, 256)       590080    \n",
      "                                                                 \n",
      " block3_pool (MaxPooling2D)  (None, 28, 28, 256)       0         \n",
      "                                                                 \n",
      " block4_conv1 (Conv2D)       (None, 28, 28, 512)       1180160   \n",
      "                                                                 \n",
      " block4_conv2 (Conv2D)       (None, 28, 28, 512)       2359808   \n",
      "                                                                 \n",
      " block4_conv3 (Conv2D)       (None, 28, 28, 512)       2359808   \n",
      "                                                                 \n",
      " block4_pool (MaxPooling2D)  (None, 14, 14, 512)       0         \n",
      "                                                                 \n",
      " block5_conv1 (Conv2D)       (None, 14, 14, 512)       2359808   \n",
      "                                                                 \n",
      " block5_conv2 (Conv2D)       (None, 14, 14, 512)       2359808   \n",
      "                                                                 \n",
      " block5_conv3 (Conv2D)       (None, 14, 14, 512)       2359808   \n",
      "                                                                 \n",
      " block5_pool (MaxPooling2D)  (None, 7, 7, 512)         0         \n",
      "                                                                 \n",
      " global_max_pooling2d (Globa  (None, 512)              0         \n",
      " lMaxPooling2D)                                                  \n",
      "                                                                 \n",
      " dropout (Dropout)           (None, 512)               0         \n",
      "                                                                 \n",
      " flatten (Flatten)           (None, 512)               0         \n",
      "                                                                 \n",
      " dense (Dense)               (None, 64)                32832     \n",
      "                                                                 \n",
      " dense_1 (Dense)             (None, 1)                 65        \n",
      "                                                                 \n",
      "=================================================================\n",
      "Total params: 14,747,585\n",
      "Trainable params: 2,392,705\n",
      "Non-trainable params: 12,354,880\n",
      "_________________________________________________________________\n"
     ]
    }
   ],
   "source": [
    "model.summary()"
   ]
  },
  {
   "cell_type": "code",
   "execution_count": 8,
   "metadata": {
    "pycharm": {
     "name": "#%%\n"
    }
   },
   "outputs": [
    {
     "name": "stderr",
     "output_type": "stream",
     "text": [
      "'rm' is not recognized as an internal or external command,\n",
      "operable program or batch file.\n",
      "The syntax of the command is incorrect.\n"
     ]
    }
   ],
   "source": [
    "import datetime\n",
    "!rm -rf ./logs/\n",
    "!mkdir '/content/logs'\n",
    "\n",
    "\n",
    "log_dir = \"logs/fit/\" + datetime.datetime.now().strftime(\"%Y%m%d-%H%M%S\")\n",
    "tensorboard_callback = tf.keras.callbacks.TensorBoard(log_dir=log_dir, histogram_freq=1)"
   ]
  },
  {
   "cell_type": "code",
   "execution_count": 9,
   "metadata": {
    "pycharm": {
     "name": "#%%\n"
    }
   },
   "outputs": [],
   "source": [
    "from keras.preprocessing import image\n",
    "optimizer = tf.keras.optimizers.Adam(\n",
    "    learning_rate = 0.001\n",
    ")"
   ]
  },
  {
   "cell_type": "code",
   "execution_count": 10,
   "metadata": {
    "pycharm": {
     "name": "#%%\n"
    }
   },
   "outputs": [],
   "source": [
    "def modeling(classify):\n",
    "\n",
    "    print(classify)\n",
    "\n",
    "    \n",
    "    # Compile the model\n",
    "    model.compile(\n",
    "        optimizer= optimizer,\n",
    "        loss=\"mean_squared_error\",  # This is a classic regression score - the lower the better\n",
    "        metrics=['mean_absolute_error', 'mean_squared_error']\n",
    "    )\n",
    "\n",
    "    train_datagen=image.ImageDataGenerator(rotation_range=20, width_shift_range=0.2, height_shift_range=0.2, \n",
    "                                            shear_range=0.2, zoom_range=0.3, horizontal_flip=True, rescale=1/255)\n",
    "    #rescale is very important to normalise the data to a small range\n",
    "\n",
    "    val_datagen=image.ImageDataGenerator(rescale=1/255)\n",
    "    #validation data doesnt need to be augmented\n",
    "\n",
    "    train_generator=train_datagen.flow_from_directory(\"E:/NUS Project/Split data/train\",target_size=(224,224),\n",
    "                                                        batch_size=16, classes=[classify,\"No Finding\"])\n",
    "    #size determines the dimensions of the generated pics\n",
    "\n",
    "    print(train_generator.class_indices)\n",
    "\n",
    "    imgs, labels = next(train_generator)\n",
    "\n",
    "    plt.imshow(imgs[1])\n",
    "    labels[1]\n",
    "\n",
    "\n",
    "    val_generator=val_datagen.flow_from_directory('E:/NUS Project/Split data/val',target_size=(224,224),\n",
    "                                                    batch_size=16, classes=[classify,\"No Finding\"])\n",
    "    print(val_generator.class_indices)\n",
    "\n",
    "\n",
    "    # Fit the model\n",
    "    hist = model.fit(\n",
    "        train_generator,\n",
    "        batch_size=32,\n",
    "        epochs=10,\n",
    "        validation_data=val_generator,\n",
    "        callbacks=[tensorboard_callback]\n",
    "    )\n",
    "    print('\\nDone.')\n",
    "\n",
    "\n",
    "    model_history=hist.history\n",
    "\n",
    "    plt.plot(model_history['accuracy'], label='accuracy')\n",
    "    plt.plot(model_history['val_accuracy'], label='val accuracy')\n",
    "    plt.legend()\n",
    "\n",
    "    plt.plot(model_history['loss'], label='loss')\n",
    "    plt.plot(model_history['val_loss'], label='val loss')\n",
    "    plt.legend()\n",
    "\n",
    "    model.evaluate(val_generator)"
   ]
  },
  {
   "cell_type": "code",
   "execution_count": 11,
   "metadata": {
    "pycharm": {
     "name": "#%%\n"
    }
   },
   "outputs": [],
   "source": [
    "import os \n",
    "my_list = os.listdir('E:/NUS Project/Split data/val')"
   ]
  },
  {
   "cell_type": "code",
   "execution_count": 12,
   "outputs": [
    {
     "data": {
      "text/plain": "['Atelectasis',\n 'Cardiomegaly',\n 'Consolidation',\n 'Edema',\n 'Effusion',\n 'Emphysema',\n 'Fibrosis',\n 'Hernia',\n 'Infiltration',\n 'Mass',\n 'No Finding',\n 'Nodule',\n 'Pleural_Thickening',\n 'Pneumonia',\n 'Pneumothorax']"
     },
     "execution_count": 12,
     "metadata": {},
     "output_type": "execute_result"
    }
   ],
   "source": [
    "my_list"
   ],
   "metadata": {
    "collapsed": false,
    "pycharm": {
     "name": "#%%\n"
    }
   }
  },
  {
   "cell_type": "code",
   "execution_count": 13,
   "metadata": {
    "pycharm": {
     "name": "#%%\n"
    }
   },
   "outputs": [],
   "source": [
    "#for disease in my_list:\n",
    "    #modeling(disease)"
   ]
  },
  {
   "cell_type": "code",
   "execution_count": null,
   "outputs": [
    {
     "name": "stdout",
     "output_type": "stream",
     "text": [
      "Edema\n",
      "Found 43864 images belonging to 2 classes.\n",
      "{'Edema': 0, 'No Finding': 1}\n",
      "Found 18800 images belonging to 2 classes.\n",
      "{'Edema': 0, 'No Finding': 1}\n",
      "Epoch 1/10\n",
      " 834/2742 [========>.....................] - ETA: 39:49 - loss: 0.3169 - mean_absolute_error: 0.5140 - mean_squared_error: 0.3169"
     ]
    }
   ],
   "source": [
    "modeling('Edema')"
   ],
   "metadata": {
    "collapsed": false,
    "pycharm": {
     "name": "#%%\n",
     "is_executing": true
    }
   }
  },
  {
   "cell_type": "code",
   "execution_count": null,
   "outputs": [],
   "source": [],
   "metadata": {
    "collapsed": false,
    "pycharm": {
     "name": "#%%\n",
     "is_executing": true
    }
   }
  }
 ],
 "metadata": {
  "interpreter": {
   "hash": "ca6acb01abda7e538f5829adaf677e89b8f157ae329a6ffdd1ee8599e5d23fa2"
  },
  "kernelspec": {
   "display_name": "Python 3.10.0 64-bit",
   "language": "python",
   "name": "python3"
  },
  "language_info": {
   "codemirror_mode": {
    "name": "ipython",
    "version": 3
   },
   "file_extension": ".py",
   "mimetype": "text/x-python",
   "name": "python",
   "nbconvert_exporter": "python",
   "pygments_lexer": "ipython3",
   "version": "3.10.0"
  },
  "orig_nbformat": 4
 },
 "nbformat": 4,
 "nbformat_minor": 2
}